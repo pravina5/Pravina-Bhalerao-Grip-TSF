{
  "nbformat": 4,
  "nbformat_minor": 0,
  "metadata": {
    "colab": {
      "name": "Grip#task1.ipynb",
      "provenance": [],
      "collapsed_sections": [],
      "authorship_tag": "ABX9TyNbFZz/K9NIelAyA65v2D2x",
      "include_colab_link": true
    },
    "kernelspec": {
      "name": "python3",
      "display_name": "Python 3"
    },
    "language_info": {
      "name": "python"
    }
  },
  "cells": [
    {
      "cell_type": "markdown",
      "metadata": {
        "id": "view-in-github",
        "colab_type": "text"
      },
      "source": [
        "<a href=\"https://colab.research.google.com/github/pravina5/Pravina-Bhalerao-Grip-TSF/blob/main/Grip_task1.ipynb\" target=\"_parent\"><img src=\"https://colab.research.google.com/assets/colab-badge.svg\" alt=\"Open In Colab\"/></a>"
      ]
    },
    {
      "cell_type": "markdown",
      "metadata": {
        "id": "GOihzKYpSOds"
      },
      "source": [
        "Name : Pravina Bhalerao\n",
        "\n",
        "The Spark Foundation\n",
        "\n",
        "Data Science and Business Analytics Task#1\n",
        "\n",
        "Predict the Percentage of a Student based on no of hrs of study using Simple Linear Regression with 2 variables.\n",
        "\n",
        "Question : What will be the predicted score if the student studies for 9.25 hrs/day "
      ]
    },
    {
      "cell_type": "markdown",
      "metadata": {
        "id": "HrZ3A3dqU2t5"
      },
      "source": [
        "# **1.Importing Libraries**"
      ]
    },
    {
      "cell_type": "code",
      "metadata": {
        "id": "pHvK71n_SFyr"
      },
      "source": [
        "import numpy as np\n",
        "import pandas as pd\n",
        "import matplotlib.pyplot as plt\n",
        "from matplotlib import cm\n",
        "from sklearn.linear_model import LinearRegression\n",
        "from sklearn.metrics import r2_score\n",
        "import pandas as pd\n",
        "import seaborn as sns\n",
        "import warnings\n",
        "warnings.filterwarnings('ignore')"
      ],
      "execution_count": null,
      "outputs": []
    },
    {
      "cell_type": "markdown",
      "metadata": {
        "id": "HtKzRyumVWl1"
      },
      "source": [
        "# **2. Importing Dataset**\n",
        "\n",
        "The dataset has two features :No of hours a student studies and the scores obtained."
      ]
    },
    {
      "cell_type": "code",
      "metadata": {
        "id": "8GZa0CXSViMS"
      },
      "source": [
        "# Reading data from link\n",
        "data = pd.read_csv(\"http://bit.ly/w-data\")"
      ],
      "execution_count": null,
      "outputs": []
    },
    {
      "cell_type": "code",
      "metadata": {
        "colab": {
          "base_uri": "https://localhost:8080/",
          "height": 359
        },
        "id": "aGswc8CkWEPV",
        "outputId": "402edd3f-2b56-41de-901b-96100b8ee656"
      },
      "source": [
        "# displays the first 10 rows of the dataset\n",
        "data.head(10)"
      ],
      "execution_count": null,
      "outputs": [
        {
          "output_type": "execute_result",
          "data": {
            "text/html": [
              "<div>\n",
              "<style scoped>\n",
              "    .dataframe tbody tr th:only-of-type {\n",
              "        vertical-align: middle;\n",
              "    }\n",
              "\n",
              "    .dataframe tbody tr th {\n",
              "        vertical-align: top;\n",
              "    }\n",
              "\n",
              "    .dataframe thead th {\n",
              "        text-align: right;\n",
              "    }\n",
              "</style>\n",
              "<table border=\"1\" class=\"dataframe\">\n",
              "  <thead>\n",
              "    <tr style=\"text-align: right;\">\n",
              "      <th></th>\n",
              "      <th>Hours</th>\n",
              "      <th>Scores</th>\n",
              "    </tr>\n",
              "  </thead>\n",
              "  <tbody>\n",
              "    <tr>\n",
              "      <th>0</th>\n",
              "      <td>2.5</td>\n",
              "      <td>21</td>\n",
              "    </tr>\n",
              "    <tr>\n",
              "      <th>1</th>\n",
              "      <td>5.1</td>\n",
              "      <td>47</td>\n",
              "    </tr>\n",
              "    <tr>\n",
              "      <th>2</th>\n",
              "      <td>3.2</td>\n",
              "      <td>27</td>\n",
              "    </tr>\n",
              "    <tr>\n",
              "      <th>3</th>\n",
              "      <td>8.5</td>\n",
              "      <td>75</td>\n",
              "    </tr>\n",
              "    <tr>\n",
              "      <th>4</th>\n",
              "      <td>3.5</td>\n",
              "      <td>30</td>\n",
              "    </tr>\n",
              "    <tr>\n",
              "      <th>5</th>\n",
              "      <td>1.5</td>\n",
              "      <td>20</td>\n",
              "    </tr>\n",
              "    <tr>\n",
              "      <th>6</th>\n",
              "      <td>9.2</td>\n",
              "      <td>88</td>\n",
              "    </tr>\n",
              "    <tr>\n",
              "      <th>7</th>\n",
              "      <td>5.5</td>\n",
              "      <td>60</td>\n",
              "    </tr>\n",
              "    <tr>\n",
              "      <th>8</th>\n",
              "      <td>8.3</td>\n",
              "      <td>81</td>\n",
              "    </tr>\n",
              "    <tr>\n",
              "      <th>9</th>\n",
              "      <td>2.7</td>\n",
              "      <td>25</td>\n",
              "    </tr>\n",
              "  </tbody>\n",
              "</table>\n",
              "</div>"
            ],
            "text/plain": [
              "   Hours  Scores\n",
              "0    2.5      21\n",
              "1    5.1      47\n",
              "2    3.2      27\n",
              "3    8.5      75\n",
              "4    3.5      30\n",
              "5    1.5      20\n",
              "6    9.2      88\n",
              "7    5.5      60\n",
              "8    8.3      81\n",
              "9    2.7      25"
            ]
          },
          "metadata": {
            "tags": []
          },
          "execution_count": 22
        }
      ]
    },
    {
      "cell_type": "markdown",
      "metadata": {
        "id": "kO7CXBC-ArRy"
      },
      "source": [
        "# **3.Understanding Data**"
      ]
    },
    {
      "cell_type": "code",
      "metadata": {
        "colab": {
          "base_uri": "https://localhost:8080/"
        },
        "id": "l8MMwdZwA6Ik",
        "outputId": "130e6b36-45fb-4452-be65-7a1b919d2b70"
      },
      "source": [
        "# Shape of our dataset\n",
        "data.shape"
      ],
      "execution_count": null,
      "outputs": [
        {
          "output_type": "execute_result",
          "data": {
            "text/plain": [
              "(25, 2)"
            ]
          },
          "metadata": {
            "tags": []
          },
          "execution_count": 23
        }
      ]
    },
    {
      "cell_type": "code",
      "metadata": {
        "colab": {
          "base_uri": "https://localhost:8080/"
        },
        "id": "fRpRwIJWBTyf",
        "outputId": "74f1132f-9d28-4d23-a658-b3db8978682c"
      },
      "source": [
        "''' Info our dataset. Use to see if there are any null values. If yes the we need to manipulate the data by deleting rows\n",
        " if there are enough example or replace with mean/median/mode '''\n",
        "\n",
        "data.info()\n",
        "# as all the values are NON-Null there is no need to perform any manipulation"
      ],
      "execution_count": null,
      "outputs": [
        {
          "output_type": "stream",
          "text": [
            "<class 'pandas.core.frame.DataFrame'>\n",
            "RangeIndex: 25 entries, 0 to 24\n",
            "Data columns (total 2 columns):\n",
            " #   Column  Non-Null Count  Dtype  \n",
            "---  ------  --------------  -----  \n",
            " 0   Hours   25 non-null     float64\n",
            " 1   Scores  25 non-null     int64  \n",
            "dtypes: float64(1), int64(1)\n",
            "memory usage: 528.0 bytes\n"
          ],
          "name": "stdout"
        }
      ]
    },
    {
      "cell_type": "code",
      "metadata": {
        "colab": {
          "base_uri": "https://localhost:8080/",
          "height": 297
        },
        "id": "ke_N9vz0BfE_",
        "outputId": "f0d208ee-c469-44c8-8ca9-f3ed10805ba1"
      },
      "source": [
        "# Describe our dataset. It is used to check if there is any sudden jump \n",
        "data.describe()"
      ],
      "execution_count": null,
      "outputs": [
        {
          "output_type": "execute_result",
          "data": {
            "text/html": [
              "<div>\n",
              "<style scoped>\n",
              "    .dataframe tbody tr th:only-of-type {\n",
              "        vertical-align: middle;\n",
              "    }\n",
              "\n",
              "    .dataframe tbody tr th {\n",
              "        vertical-align: top;\n",
              "    }\n",
              "\n",
              "    .dataframe thead th {\n",
              "        text-align: right;\n",
              "    }\n",
              "</style>\n",
              "<table border=\"1\" class=\"dataframe\">\n",
              "  <thead>\n",
              "    <tr style=\"text-align: right;\">\n",
              "      <th></th>\n",
              "      <th>Hours</th>\n",
              "      <th>Scores</th>\n",
              "    </tr>\n",
              "  </thead>\n",
              "  <tbody>\n",
              "    <tr>\n",
              "      <th>count</th>\n",
              "      <td>25.000000</td>\n",
              "      <td>25.000000</td>\n",
              "    </tr>\n",
              "    <tr>\n",
              "      <th>mean</th>\n",
              "      <td>5.012000</td>\n",
              "      <td>51.480000</td>\n",
              "    </tr>\n",
              "    <tr>\n",
              "      <th>std</th>\n",
              "      <td>2.525094</td>\n",
              "      <td>25.286887</td>\n",
              "    </tr>\n",
              "    <tr>\n",
              "      <th>min</th>\n",
              "      <td>1.100000</td>\n",
              "      <td>17.000000</td>\n",
              "    </tr>\n",
              "    <tr>\n",
              "      <th>25%</th>\n",
              "      <td>2.700000</td>\n",
              "      <td>30.000000</td>\n",
              "    </tr>\n",
              "    <tr>\n",
              "      <th>50%</th>\n",
              "      <td>4.800000</td>\n",
              "      <td>47.000000</td>\n",
              "    </tr>\n",
              "    <tr>\n",
              "      <th>75%</th>\n",
              "      <td>7.400000</td>\n",
              "      <td>75.000000</td>\n",
              "    </tr>\n",
              "    <tr>\n",
              "      <th>max</th>\n",
              "      <td>9.200000</td>\n",
              "      <td>95.000000</td>\n",
              "    </tr>\n",
              "  </tbody>\n",
              "</table>\n",
              "</div>"
            ],
            "text/plain": [
              "           Hours     Scores\n",
              "count  25.000000  25.000000\n",
              "mean    5.012000  51.480000\n",
              "std     2.525094  25.286887\n",
              "min     1.100000  17.000000\n",
              "25%     2.700000  30.000000\n",
              "50%     4.800000  47.000000\n",
              "75%     7.400000  75.000000\n",
              "max     9.200000  95.000000"
            ]
          },
          "metadata": {
            "tags": []
          },
          "execution_count": 25
        }
      ]
    },
    {
      "cell_type": "markdown",
      "metadata": {
        "id": "2PwA39ffXm0u"
      },
      "source": [
        "# **4.Let's visualize the dataset and see the relation between the data**"
      ]
    },
    {
      "cell_type": "code",
      "metadata": {
        "colab": {
          "base_uri": "https://localhost:8080/",
          "height": 285
        },
        "id": "yNhv7PvbX59r",
        "outputId": "9b630c10-68e9-44b9-91c8-10e1c179ff77"
      },
      "source": [
        "sns.set(color_codes=True)\n",
        "x= data[\"Hours\"]\n",
        "y= data[\"Scores\"]\n",
        "sns.scatterplot(x=x,y=y, data = data,palette = 'dark',size= 7)\n",
        "plt.show()\n"
      ],
      "execution_count": null,
      "outputs": [
        {
          "output_type": "display_data",
          "data": {
            "image/png": "[encoded data removed]",
            "text/plain": [
              "<Figure size 432x288 with 1 Axes>"
            ]
          },
          "metadata": {
            "tags": []
          }
        }
      ]
    },
    {
      "cell_type": "code",
      "metadata": {
        "colab": {
          "base_uri": "https://localhost:8080/",
          "height": 272
        },
        "id": "NYvRsfBKGQ1b",
        "outputId": "6572a222-3c30-4512-f6d0-1c9ee7fe0c7f"
      },
      "source": [
        "# Visualizing the data using heatmap. It is visible from this Hours and Scores are correlated to each other. \n",
        "\n",
        "sns.heatmap(data.corr(), cmap=\"YlGnBu\", annot = True)\n",
        "plt.show()"
      ],
      "execution_count": null,
      "outputs": [
        {
          "output_type": "display_data",
          "data": {
            "image/png": "[encoded data removed]",
            "text/plain": [
              "<Figure size 432x288 with 2 Axes>"
            ]
          },
          "metadata": {
            "tags": []
          }
        }
      ]
    },
    {
      "cell_type": "markdown",
      "metadata": {
        "id": "rYLQJKRaH7bl"
      },
      "source": [
        "# **5. Performing Linear Regression**\n",
        "\n",
        "Equation of simple linear regression\n",
        "\n",
        "y = c + mX\n",
        "\n",
        "In our case:\n",
        "\n",
        "Scores = c + m * Hours\n",
        "\n",
        "The m values are known as model coefficients or model parameters."
      ]
    },
    {
      "cell_type": "markdown",
      "metadata": {
        "id": "tyj50tKRI74y"
      },
      "source": [
        "# **5.a Create X and y**"
      ]
    },
    {
      "cell_type": "code",
      "metadata": {
        "id": "LpiNvNa0JHgK"
      },
      "source": [
        "X = data['Hours'] #Independant variable\n",
        "y= data['Scores'] #Target variable"
      ],
      "execution_count": null,
      "outputs": []
    },
    {
      "cell_type": "markdown",
      "metadata": {
        "id": "EEtYhrppJjFt"
      },
      "source": [
        "# **5.b Create Train and Test Set**\n",
        "\n",
        "We need to split our variables into **training and testing sets**. Using the **training set**, we’ll **build the model** and perform the model on the testing set. We’ll divide the training and testing sets into a **8:2 ratio**, respectively as this is the most common ratio."
      ]
    },
    {
      "cell_type": "code",
      "metadata": {
        "id": "GrKAB22DJiSq"
      },
      "source": [
        "# Splitting the varaibles as training and testing\n",
        "from sklearn.model_selection import train_test_split\n",
        "X_train, X_test, y_train, y_test = train_test_split(X, y, train_size = 0.8, \n",
        "                                                    test_size = 0.2, random_state = 100)"
      ],
      "execution_count": null,
      "outputs": []
    },
    {
      "cell_type": "code",
      "metadata": {
        "colab": {
          "base_uri": "https://localhost:8080/"
        },
        "id": "7aHryXAcLmyf",
        "outputId": "effcfe2f-7187-4bb5-8dfa-b17007724f83"
      },
      "source": [
        "# Training set after spilting \n",
        "X_train #hours\n"
      ],
      "execution_count": null,
      "outputs": [
        {
          "output_type": "execute_result",
          "data": {
            "text/plain": [
              "19    7.4\n",
              "23    6.9\n",
              "21    4.8\n",
              "6     9.2\n",
              "12    4.5\n",
              "4     3.5\n",
              "24    7.8\n",
              "0     2.5\n",
              "1     5.1\n",
              "20    2.7\n",
              "14    1.1\n",
              "17    1.9\n",
              "18    6.1\n",
              "2     3.2\n",
              "10    7.7\n",
              "16    2.5\n",
              "15    8.9\n",
              "7     5.5\n",
              "3     8.5\n",
              "8     8.3\n",
              "Name: Hours, dtype: float64"
            ]
          },
          "metadata": {
            "tags": []
          },
          "execution_count": 30
        }
      ]
    },
    {
      "cell_type": "code",
      "metadata": {
        "id": "eEUZrPlvPc5P",
        "colab": {
          "base_uri": "https://localhost:8080/"
        },
        "outputId": "78f96c74-0dac-4d2d-ea1c-741847d431ca"
      },
      "source": [
        "print(X_train.shape)\n",
        "print(X_test.shape)"
      ],
      "execution_count": null,
      "outputs": [
        {
          "output_type": "stream",
          "text": [
            "(20,)\n",
            "(5,)\n"
          ],
          "name": "stdout"
        }
      ]
    },
    {
      "cell_type": "code",
      "metadata": {
        "colab": {
          "base_uri": "https://localhost:8080/"
        },
        "id": "r_Fj4XDhL4tH",
        "outputId": "9d63c04f-fb9f-42e5-97e7-eafefaf14bad"
      },
      "source": [
        "y_train #Scores "
      ],
      "execution_count": null,
      "outputs": [
        {
          "output_type": "execute_result",
          "data": {
            "text/plain": [
              "19    69\n",
              "23    76\n",
              "21    54\n",
              "6     88\n",
              "12    41\n",
              "4     30\n",
              "24    86\n",
              "0     21\n",
              "1     47\n",
              "20    30\n",
              "14    17\n",
              "17    24\n",
              "18    67\n",
              "2     27\n",
              "10    85\n",
              "16    30\n",
              "15    95\n",
              "7     60\n",
              "3     75\n",
              "8     81\n",
              "Name: Scores, dtype: int64"
            ]
          },
          "metadata": {
            "tags": []
          },
          "execution_count": 32
        }
      ]
    },
    {
      "cell_type": "code",
      "metadata": {
        "colab": {
          "base_uri": "https://localhost:8080/"
        },
        "id": "jvRMNS7PO-37",
        "outputId": "e1543934-e40f-4a6d-ea04-7765f058b8dc"
      },
      "source": [
        "# Shape of the train set without adding column\n",
        "X_train.shape #(20,)\n",
        "\n",
        "# Adding additional column to the train and test data\n",
        "X_train = X_train.values.reshape(-1,1)\n",
        "X_test = X_test.values.reshape(-1,1)\n",
        "\n",
        "print(X_train.shape)\n",
        "print(X_test.shape)"
      ],
      "execution_count": null,
      "outputs": [
        {
          "output_type": "stream",
          "text": [
            "(20, 1)\n",
            "(5, 1)\n"
          ],
          "name": "stdout"
        }
      ]
    },
    {
      "cell_type": "markdown",
      "metadata": {
        "id": "OeTfoCfOPuyi"
      },
      "source": [
        "# **5.c Now, let’s fit the line to the plot importing the LinearRegression library from the sklearn.linear_model.**"
      ]
    },
    {
      "cell_type": "code",
      "metadata": {
        "colab": {
          "base_uri": "https://localhost:8080/"
        },
        "id": "RgvOjEUHPyP0",
        "outputId": "70338f05-0587-4ece-b047-c539e6c09fd4"
      },
      "source": [
        "from sklearn.linear_model import LinearRegression\n",
        "\n",
        "# Creating an object of Linear Regression\n",
        "lm = LinearRegression()\n",
        "\n",
        "# Fit the model using .fit() method\n",
        "lm.fit(X_train, y_train)"
      ],
      "execution_count": null,
      "outputs": [
        {
          "output_type": "execute_result",
          "data": {
            "text/plain": [
              "LinearRegression(copy_X=True, fit_intercept=True, n_jobs=None, normalize=False)"
            ]
          },
          "metadata": {
            "tags": []
          },
          "execution_count": 34
        }
      ]
    },
    {
      "cell_type": "code",
      "metadata": {
        "colab": {
          "base_uri": "https://localhost:8080/"
        },
        "id": "G5kn0W5UP8-0",
        "outputId": "85579e99-3c01-4506-a560-46409d97a987"
      },
      "source": [
        "# Intercept value\n",
        "print(\"Intercept :\",lm.intercept_)\n",
        "\n",
        "# Slope value\n",
        "print('Slope :',lm.coef_)"
      ],
      "execution_count": null,
      "outputs": [
        {
          "output_type": "stream",
          "text": [
            "Intercept : 1.989423110974684\n",
            "Slope : [9.83544438]\n"
          ],
          "name": "stdout"
        }
      ]
    },
    {
      "cell_type": "markdown",
      "metadata": {
        "id": "FzCPEGbrQRos"
      },
      "source": [
        "**Equation of Line:**\n",
        "\n",
        "y=9.84X+1.99\n",
        "\n",
        "Scores = 9.84*Hours+1.99 "
      ]
    },
    {
      "cell_type": "code",
      "metadata": {
        "colab": {
          "base_uri": "https://localhost:8080/",
          "height": 285
        },
        "id": "n4Nwqg7eaIPT",
        "outputId": "0faa6f3e-667c-42a1-f047-0207c3596324"
      },
      "source": [
        "# Plotting the regression line\n",
        "line = lm.coef_*X+lm.intercept_\n",
        "\n",
        "# Plotting for the test data\n",
        "plt.scatter(X, y)\n",
        "plt.plot(X, line);\n",
        "plt.xlabel('No of Hours')\n",
        "plt.ylabel('Scores')\n",
        "plt.show()"
      ],
      "execution_count": null,
      "outputs": [
        {
          "output_type": "display_data",
          "data": {
            "image/png": "[encoded data removed]",
            "text/plain": [
              "<Figure size 432x288 with 1 Axes>"
            ]
          },
          "metadata": {
            "tags": []
          }
        }
      ]
    },
    {
      "cell_type": "code",
      "metadata": {
        "colab": {
          "base_uri": "https://localhost:8080/"
        },
        "id": "bp72HzwCQPn6",
        "outputId": "4520b25c-dcff-4764-e4ef-6ab0f0e199ec"
      },
      "source": [
        "lm.score(X_train,y_train) #shows accuracy of the model"
      ],
      "execution_count": null,
      "outputs": [
        {
          "output_type": "execute_result",
          "data": {
            "text/plain": [
              "0.9519568836485192"
            ]
          },
          "metadata": {
            "tags": []
          },
          "execution_count": 37
        }
      ]
    },
    {
      "cell_type": "markdown",
      "metadata": {
        "id": "i61cB2UC8zOs"
      },
      "source": [
        "# Evaluating Regression Model Using R² value"
      ]
    },
    {
      "cell_type": "code",
      "metadata": {
        "colab": {
          "base_uri": "https://localhost:8080/"
        },
        "id": "l0vGGtefQRUP",
        "outputId": "74d1b39d-d9e6-4659-a6f6-60eeacb673d6"
      },
      "source": [
        "# Making Predictions of y_value\n",
        "y_train_pred = lm.predict(X_train)\n",
        "y_test_pred = lm.predict(X_test)\n",
        "\n",
        "# Comparing the r2 value of both train and test data\n",
        "print(\"R² value of train set data:\",r2_score(y_train,y_train_pred))\n",
        "print(\"R² value of train set data:\",r2_score(y_test,y_test_pred))"
      ],
      "execution_count": null,
      "outputs": [
        {
          "output_type": "stream",
          "text": [
            "R² value of train set data: 0.9519568836485192\n",
            "R² value of train set data: 0.9050356232459791\n"
          ],
          "name": "stdout"
        }
      ]
    },
    {
      "cell_type": "markdown",
      "metadata": {
        "id": "k21m-iZYTKVg"
      },
      "source": [
        "# **The R² value on test data is within 5% of the R² value on training data. We can apply the model to the unseen test set in the future.**"
      ]
    },
    {
      "cell_type": "markdown",
      "metadata": {
        "id": "NQeBjl2E9ACA"
      },
      "source": [
        "# Evaluating Regression Model using Mean Absolute Error"
      ]
    },
    {
      "cell_type": "code",
      "metadata": {
        "colab": {
          "base_uri": "https://localhost:8080/"
        },
        "id": "tXAbKt3w7EE2",
        "outputId": "363d6900-45bc-4621-98a6-6f52f8bd31d9"
      },
      "source": [
        "from sklearn import metrics  \n",
        "print('Mean Absolute Error:', \n",
        "      metrics.mean_absolute_error(y_test, y_pred)) "
      ],
      "execution_count": null,
      "outputs": [
        {
          "output_type": "stream",
          "text": [
            "Mean Absolute Error: 4.140342096254413\n"
          ],
          "name": "stdout"
        }
      ]
    },
    {
      "cell_type": "code",
      "metadata": {
        "colab": {
          "base_uri": "https://localhost:8080/"
        },
        "id": "_GnvnPYBYOLJ",
        "outputId": "61321902-0591-4e6a-cf64-f7730f2537bf"
      },
      "source": [
        "print('No of hours (Test data)')\n",
        "print(X_test) # Testing data - In Hours\n",
        "y_pred = lm.predict(X_test) # Predicting the scores"
      ],
      "execution_count": null,
      "outputs": [
        {
          "output_type": "stream",
          "text": [
            "No of hours (Test data)\n",
            "[[2.7]\n",
            " [3.8]\n",
            " [3.3]\n",
            " [5.9]\n",
            " [1.5]]\n"
          ],
          "name": "stdout"
        }
      ]
    },
    {
      "cell_type": "code",
      "metadata": {
        "colab": {
          "base_uri": "https://localhost:8080/",
          "height": 204
        },
        "id": "h1sLXIE3YZoI",
        "outputId": "67376732-738c-41e4-840d-6db1baf4ba3d"
      },
      "source": [
        "# Comparing Actual vs Predicted\n",
        "df = pd.DataFrame({'Actual': y_test, 'Predicted': y_pred})  \n",
        "df "
      ],
      "execution_count": null,
      "outputs": [
        {
          "output_type": "execute_result",
          "data": {
            "text/html": [
              "<div>\n",
              "<style scoped>\n",
              "    .dataframe tbody tr th:only-of-type {\n",
              "        vertical-align: middle;\n",
              "    }\n",
              "\n",
              "    .dataframe tbody tr th {\n",
              "        vertical-align: top;\n",
              "    }\n",
              "\n",
              "    .dataframe thead th {\n",
              "        text-align: right;\n",
              "    }\n",
              "</style>\n",
              "<table border=\"1\" class=\"dataframe\">\n",
              "  <thead>\n",
              "    <tr style=\"text-align: right;\">\n",
              "      <th></th>\n",
              "      <th>Actual</th>\n",
              "      <th>Predicted</th>\n",
              "    </tr>\n",
              "  </thead>\n",
              "  <tbody>\n",
              "    <tr>\n",
              "      <th>9</th>\n",
              "      <td>25</td>\n",
              "      <td>28.545123</td>\n",
              "    </tr>\n",
              "    <tr>\n",
              "      <th>22</th>\n",
              "      <td>35</td>\n",
              "      <td>39.364112</td>\n",
              "    </tr>\n",
              "    <tr>\n",
              "      <th>13</th>\n",
              "      <td>42</td>\n",
              "      <td>34.446390</td>\n",
              "    </tr>\n",
              "    <tr>\n",
              "      <th>11</th>\n",
              "      <td>62</td>\n",
              "      <td>60.018545</td>\n",
              "    </tr>\n",
              "    <tr>\n",
              "      <th>5</th>\n",
              "      <td>20</td>\n",
              "      <td>16.742590</td>\n",
              "    </tr>\n",
              "  </tbody>\n",
              "</table>\n",
              "</div>"
            ],
            "text/plain": [
              "    Actual  Predicted\n",
              "9       25  28.545123\n",
              "22      35  39.364112\n",
              "13      42  34.446390\n",
              "11      62  60.018545\n",
              "5       20  16.742590"
            ]
          },
          "metadata": {
            "tags": []
          },
          "execution_count": 45
        }
      ]
    },
    {
      "cell_type": "markdown",
      "metadata": {
        "id": "GQCQpmbjWGEW"
      },
      "source": [
        "# **Making Own Prediction:**"
      ]
    },
    {
      "cell_type": "code",
      "metadata": {
        "colab": {
          "base_uri": "https://localhost:8080/"
        },
        "id": "awhusoN6VRzq",
        "outputId": "39f3d980-9104-4ae6-b504-2d0c1b2bd24c"
      },
      "source": [
        "hours =9.25\n",
        "own_pred =lm.predict(np.array([[9.25]]))\n",
        "print(\"No of Hours = {}\".format(hours))\n",
        "print(\"Predicted Score = {}\".format(own_pred[0]))"
      ],
      "execution_count": null,
      "outputs": [
        {
          "output_type": "stream",
          "text": [
            "No of Hours = 9.25\n",
            "Predicted Score = 92.96728365185982\n"
          ],
          "name": "stdout"
        }
      ]
    },
    {
      "cell_type": "markdown",
      "metadata": {
        "id": "9TNfgyqiwhRt"
      },
      "source": [
        "# **The predicted score if the student studies for 9.25 hrs/day is 92.96**"
      ]
    },
    {
      "cell_type": "markdown",
      "metadata": {
        "id": "1n78FBsyabsz"
      },
      "source": [
        "**References:**\n",
        "\n",
        "https://towardsdatascience.com/simple-linear-regression-model-using-python-machine-learning-eab7924d18b4\n",
        "\n",
        "https://drive.google.com/file/d/1koGHPElsHuXo9HPL4BQkZWRMJkOEHiv4/view?usp=sharing"
      ]
    }
  ]
}